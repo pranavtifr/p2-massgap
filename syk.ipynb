{
 "cells": [
  {
   "cell_type": "code",
   "execution_count": 1,
   "metadata": {},
   "outputs": [],
   "source": [
    "#! /usr/bin/env python\n",
    "import numpy as np\n",
    "import scipy.linalg as LA\n",
    "import scipy.optimize as SO\n",
    "import random\n",
    "import math\n",
    "import itertools\n",
    "import statistics\n",
    "import matplotlib.pyplot as plt\n",
    "import matplotlib.mlab as mlab\n",
    "%matplotlib inline\n",
    "import tqdm \n",
    "#print(\"MAKE SURE YOU CHANGE THE FILE NAME\")\n",
    "#input(\"Press enter to continue\")\n",
    "\n",
    "def show(nlist,glist,name=' ',title=' '):\n",
    "    if not name and save:\n",
    "        print(\"Give a name to save the file\")\n",
    "        exit()\n",
    "        \n",
    "    \n",
    "    plotlist = np.array([[[find_gap(n,g),n] for n in nlist] for g in glist])   \n",
    "        \n",
    "    # the histogram of the data\n",
    "    #plt.hist(eigs, 15, facecolor='green',normed=1, alpha=0.75,histtype='step',label ='Energy')\n",
    "    markers = [\".\" ,\"o\",\"v\",\"^\",\"<\",\">\",\"1\",\"2\",\"3\",\"4\",\"8\",\"s\",\"p\",\"P\",\"*\",\"h\",\"H\",\"+\",\"x\",\"X\",\"D\",\"d\"]\n",
    "    fig,ax = plt.subplots()\n",
    "    leg = []\n",
    "    if np.array(plotlist).ndim != 2:\n",
    "        for k in plotlist:\n",
    "            leg.append(plt.scatter(k.T[1],np.log(k.T[0]),marker=random.choice(markers)))\n",
    "            #plt.legend(handles=[plot1],loc=1)\n",
    "    else:\n",
    "        leg.append(plt.scatter(plotlist.T[1],np.log(plotlist.T[0]),marker=random.choice(markers)))\n",
    "\n",
    "    \n",
    "    ax.grid(True)\n",
    "    ax.legend(leg,glist)\n",
    "    plt.title(r'$Mass Gap '+str(title)+'$')\n",
    "    #plt.yscale('log')\n",
    "    plt.xlabel(r'$N$')\n",
    "    plt.ylabel(r'$\\log(\\Delta E)$')\n",
    "    plt.savefig(\"Massgap_acci.png\")\n",
    "    plt.show()\n",
    "\n",
    "\n",
    "def gap_vs_g(N,g):\n",
    "    plotdata = np.array([[find_gap(N,gg,find_gap(N,0)),gg] for gg in g])\n",
    "    #plotdata2 = np.array([[find_gap2(N,gg),gg] for gg in g])\n",
    "\n",
    "    #print(plotdata)\n",
    "    plt.scatter(plotdata.T[1],plotdata.T[0],marker=\"o\")\n",
    "    #plt.scatter(plotdata2.T[1],plotdata2.T[0],marker=\".\")\n",
    "    plt.grid(True)\n",
    "    plt.title(r'$Mass Gap for N =$'+str(N))\n",
    "    #plt.yscale('log')\n",
    "    plt.xlabel(r'$g$')\n",
    "    plt.ylabel(r'$\\Delta E$')\n",
    "    plt.savefig(\"Massgap\"+str(N)+\"vs_g.png\")\n",
    "    plt.show()\n",
    "\n",
    "      \n",
    "def gap_vs_J(N,J):\n",
    "    def gapJ(N,jj):\n",
    "        eigs = np.load('./ham_data_J/'+str(N)+'/syk_eigs_'+str(N)+'_J'+str(jj)+'.npy')\n",
    "        if (N%8) == 0:\n",
    "            return abs(eigs[1]-eigs[0])\n",
    "        else:\n",
    "            return abs(eigs[2]-eigs[1])\n",
    "        \n",
    "        \n",
    "    plotdata = np.array([[gapJ(N,jj),jj] for jj in J])\n",
    "    #plotdata2 = np.array([[find_gap2(N,gg),gg] for gg in g])\n",
    "\n",
    "    #print(plotdata)\n",
    "    plt.scatter(plotdata.T[1],plotdata.T[0],marker=\"o\")\n",
    "    #plt.scatter(plotdata2.T[1],plotdata2.T[0],marker=\".\")\n",
    "    plt.grid(True)\n",
    "    plt.title(r'$Mass Gap for N =$'+str(N))\n",
    "    #plt.yscale('log')\n",
    "    plt.xlabel(r'$J$')\n",
    "    plt.ylabel(r'$\\Delta E$')\n",
    "    plt.savefig(\"Massgap\"+str(N)+\"vs_J_small.png\")\n",
    "    plt.show()\n",
    "        \n",
    "    \n",
    "    \n",
    "    \n",
    "    \n",
    "    \n",
    "    \n",
    "def load_eigs(N,g):\n",
    "    if g==0:\n",
    "        H = np.load('./ham_data/'+str(N)+'/syk_eigs_'+str(N)+'_g0.0.npy')\n",
    "        return H\n",
    "    H = np.load('./ham_data/'+str(N)+'/syk_eigs_'+str(N)+'_g'+str(g)+'.npy')\n",
    "    return H\n",
    "\n",
    "def load_bs(N,g):\n",
    "    if g == 0:\n",
    "        bs = np.load('./ham_data/'+str(N)+'/bs_'+str(N)+'_free.npy')\n",
    "        return H\n",
    "    bs = np.load('./ham_data/'+str(N)+'/bs_'+str(N)+'_g'+str(g)+'.npy')\n",
    "    return bs\n",
    "\n",
    "def find_gap(N,g,free=None):\n",
    "    eigs = load_eigs(N,g)\n",
    "    norm = 1\n",
    "    if not free:\n",
    "        free = 0\n",
    "    return abs(abs(eigs[1]-eigs[0]) - free)/abs(norm)\n",
    "    if (N%8) == 0:\n",
    "        print(\"This\",g)\n",
    "        return abs(abs(eigs[1]-eigs[0]) - free)/abs(norm)\n",
    "    else:\n",
    "        return abs(abs(eigs[2]-eigs[1]) - free)/abs(norm)\n",
    "    \n",
    "def find_gap2(N,g,free=None):\n",
    "    eigs = load_eigs(N,g)\n",
    "    norm =1\n",
    "    if not free:\n",
    "        free = 0\n",
    "    if (N%8) == 0 or g != 0:\n",
    "        return abs(abs(eigs[2]-eigs[1]) - free)/abs(norm)\n",
    "    else:\n",
    "        return abs(abs(eigs[3]-eigs[4]) - free)/abs(norm)"
   ]
  },
  {
   "cell_type": "code",
   "execution_count": 20,
   "metadata": {},
   "outputs": [
    {
     "data": {
      "image/png": "[encoded data removed]",
      "text/plain": [
       "<Figure size 432x288 with 1 Axes>"
      ]
     },
     "metadata": {
      "needs_background": "light"
     },
     "output_type": "display_data"
    },
    {
     "data": {
      "image/png": "[encoded data removed]",
      "text/plain": [
       "<Figure size 432x288 with 1 Axes>"
      ]
     },
     "metadata": {
      "needs_background": "light"
     },
     "output_type": "display_data"
    },
    {
     "data": {
      "image/png": "[encoded data removed]",
      "text/plain": [
       "<Figure size 432x288 with 1 Axes>"
      ]
     },
     "metadata": {
      "needs_background": "light"
     },
     "output_type": "display_data"
    },
    {
     "data": {
      "image/png": "[encoded data removed]",
      "text/plain": [
       "<Figure size 432x288 with 1 Axes>"
      ]
     },
     "metadata": {
      "needs_background": "light"
     },
     "output_type": "display_data"
    },
    {
     "data": {
      "image/png": "[encoded data removed]",
      "text/plain": [
       "<Figure size 432x288 with 1 Axes>"
      ]
     },
     "metadata": {
      "needs_background": "light"
     },
     "output_type": "display_data"
    },
    {
     "data": {
      "image/png": "[encoded data removed]",
      "text/plain": [
       "<Figure size 432x288 with 1 Axes>"
      ]
     },
     "metadata": {
      "needs_background": "light"
     },
     "output_type": "display_data"
    }
   ],
   "source": [
    "nnn = 18\n",
    "gap_vs_J(nnn,[0.01,0.02,0.03,0.04,0.05,0.06,0.07,0.08,0.09])\n",
    "#gap_vs_J(nnn,[0.051,0.052,0.053,0.054,0.055,0.056,0.057,0.058])\n",
    "gap_vs_J(nnn,[0.1,0.2,0.3,0.4,0.5,0.6,0.7,0.8])\n",
    "gap_vs_J(nnn,[1,2,3,4,5,6,7,8])\n",
    "nnn = 20\n",
    "gap_vs_J(nnn,[0.01,0.02,0.03,0.04,0.05,0.06,0.07,0.08,0.09])\n",
    "#gap_vs_J(nnn,[0.051,0.052,0.053,0.054,0.055,0.056,0.057,0.058])\n",
    "gap_vs_J(nnn,[0.1,0.2,0.3,0.4,0.5,0.6,0.7,0.75,0.8])\n",
    "gap_vs_J(nnn,[1,2,3,4,4.3,4.5,5,5.4,5.5,6,7,8])"
   ]
  },
  {
   "cell_type": "code",
   "execution_count": 32,
   "metadata": {},
   "outputs": [
    {
     "data": {
      "image/png": "[encoded data removed]",
      "text/plain": [
       "<Figure size 432x288 with 1 Axes>"
      ]
     },
     "metadata": {
      "needs_background": "light"
     },
     "output_type": "display_data"
    }
   ],
   "source": [
    "def answer(N):\n",
    "    for nn in N:\n",
    "        mean_eigs = load_eigs(nn,0)\n",
    "       # print(mean_eigs)\n",
    "        plt.hist(mean_eigs, 15, facecolor='green',density=1, alpha=0.75,histtype='step',label ='Energy')\n",
    "     \n",
    "    plt.xlabel(r'$E$')\n",
    "    plt.ylabel(r'$p(E)$')\n",
    "    plt.title(r'$Spectra$')\n",
    "    plt.grid(True)\n",
    "    plt.savefig(\"spectra\"+str(N)+\".png\")\n",
    "    plt.show()\n",
    "    #return abs(mean_eigs[2]-mean_eigs[1])/abs(mean_eigs[0])\n",
    "    \n",
    "answer([18,20])\n"
   ]
  },
  {
   "cell_type": "code",
   "execution_count": 2,
   "metadata": {},
   "outputs": [
    {
     "name": "stderr",
     "output_type": "stream",
     "text": [
      "/usr/lib/python3.7/site-packages/ipykernel_launcher.py:31: RuntimeWarning: divide by zero encountered in log\n"
     ]
    },
    {
     "data": {
      "image/png": "[encoded data removed]",
      "text/plain": [
       "<Figure size 432x288 with 1 Axes>"
      ]
     },
     "metadata": {
      "needs_background": "light"
     },
     "output_type": "display_data"
    }
   ],
   "source": [
    "Nlist = [4,6,8,10,12,14,16,18,20,22]\n",
    "show(Nlist,[0])"
   ]
  },
  {
   "cell_type": "code",
   "execution_count": 2,
   "metadata": {},
   "outputs": [
    {
     "data": {
      "image/png": "[encoded data removed]",
      "text/plain": [
       "<Figure size 432x288 with 1 Axes>"
      ]
     },
     "metadata": {
      "needs_background": "light"
     },
     "output_type": "display_data"
    }
   ],
   "source": [
    "#gap_vs_g(18,[0,0.1,0.2,0.3,0.4,0.5,-0.1,-0.2,-0.3,-0.4,-0.5])\n",
    "#gap_vs_g(16,[0,0.01,0.02,0.03,0.04,0.05,-0.01,-0.02,-0.03,-0.04,-0.05])\n",
    "bb = [0.01*i for i in range(-10,10,1)]\n",
    "gap_vs_g(18,bb)\n",
    "#gap_vs_g(16,[0,0.1,0.2,0.3,0.4,0.5,-0.1,-0.2,-0.3,-0.4,-0.5])\n",
    "#gap_vs_g(22,[0,0.1,0.2,0.3,0.4,0.5,-0.1,-0.2,-0.3,-0.4,-0.5])\n",
    "\n"
   ]
  },
  {
   "cell_type": "code",
   "execution_count": 8,
   "metadata": {},
   "outputs": [
    {
     "data": {
      "text/plain": [
       "[-1.0,\n",
       " -0.99,\n",
       " -0.98,\n",
       " -0.97,\n",
       " -0.96,\n",
       " -0.9500000000000001,\n",
       " -0.9400000000000001,\n",
       " -0.93,\n",
       " -0.92,\n",
       " -0.91,\n",
       " -0.9,\n",
       " -0.89,\n",
       " -0.88,\n",
       " -0.87,\n",
       " -0.86,\n",
       " -0.85,\n",
       " -0.84,\n",
       " -0.8300000000000001,\n",
       " -0.8200000000000001,\n",
       " -0.81,\n",
       " -0.8,\n",
       " -0.79,\n",
       " -0.78,\n",
       " -0.77,\n",
       " -0.76,\n",
       " -0.75,\n",
       " -0.74,\n",
       " -0.73,\n",
       " -0.72,\n",
       " -0.71,\n",
       " -0.7000000000000001,\n",
       " -0.6900000000000001,\n",
       " -0.68,\n",
       " -0.67,\n",
       " -0.66,\n",
       " -0.65,\n",
       " -0.64,\n",
       " -0.63,\n",
       " -0.62,\n",
       " -0.61,\n",
       " -0.6,\n",
       " -0.59,\n",
       " -0.58,\n",
       " -0.5700000000000001,\n",
       " -0.56,\n",
       " -0.55,\n",
       " -0.54,\n",
       " -0.53,\n",
       " -0.52,\n",
       " -0.51,\n",
       " -0.5,\n",
       " -0.49,\n",
       " -0.48,\n",
       " -0.47000000000000003,\n",
       " -0.46,\n",
       " -0.45,\n",
       " -0.44,\n",
       " -0.43,\n",
       " -0.42,\n",
       " -0.41000000000000003,\n",
       " -0.4,\n",
       " -0.39,\n",
       " -0.38,\n",
       " -0.37,\n",
       " -0.36,\n",
       " -0.35000000000000003,\n",
       " -0.34,\n",
       " -0.33,\n",
       " -0.32,\n",
       " -0.31,\n",
       " -0.3,\n",
       " -0.29,\n",
       " -0.28,\n",
       " -0.27,\n",
       " -0.26,\n",
       " -0.25,\n",
       " -0.24,\n",
       " -0.23,\n",
       " -0.22,\n",
       " -0.21,\n",
       " -0.2,\n",
       " -0.19,\n",
       " -0.18,\n",
       " -0.17,\n",
       " -0.16,\n",
       " -0.15,\n",
       " -0.14,\n",
       " -0.13,\n",
       " -0.12,\n",
       " -0.11,\n",
       " -0.1,\n",
       " -0.09,\n",
       " -0.08,\n",
       " -0.07,\n",
       " -0.06,\n",
       " -0.05,\n",
       " -0.04,\n",
       " -0.03,\n",
       " -0.02,\n",
       " -0.01,\n",
       " 0.0,\n",
       " 0.01,\n",
       " 0.02,\n",
       " 0.03,\n",
       " 0.04,\n",
       " 0.05,\n",
       " 0.06,\n",
       " 0.07,\n",
       " 0.08,\n",
       " 0.09,\n",
       " 0.1,\n",
       " 0.11,\n",
       " 0.12,\n",
       " 0.13,\n",
       " 0.14,\n",
       " 0.15,\n",
       " 0.16,\n",
       " 0.17,\n",
       " 0.18,\n",
       " 0.19,\n",
       " 0.2,\n",
       " 0.21,\n",
       " 0.22,\n",
       " 0.23,\n",
       " 0.24,\n",
       " 0.25,\n",
       " 0.26,\n",
       " 0.27,\n",
       " 0.28,\n",
       " 0.29,\n",
       " 0.3,\n",
       " 0.31,\n",
       " 0.32,\n",
       " 0.33,\n",
       " 0.34,\n",
       " 0.35000000000000003,\n",
       " 0.36,\n",
       " 0.37,\n",
       " 0.38,\n",
       " 0.39,\n",
       " 0.4,\n",
       " 0.41000000000000003,\n",
       " 0.42,\n",
       " 0.43,\n",
       " 0.44,\n",
       " 0.45,\n",
       " 0.46,\n",
       " 0.47000000000000003,\n",
       " 0.48,\n",
       " 0.49,\n",
       " 0.5,\n",
       " 0.51,\n",
       " 0.52,\n",
       " 0.53,\n",
       " 0.54,\n",
       " 0.55,\n",
       " 0.56,\n",
       " 0.5700000000000001,\n",
       " 0.58,\n",
       " 0.59,\n",
       " 0.6,\n",
       " 0.61,\n",
       " 0.62,\n",
       " 0.63,\n",
       " 0.64,\n",
       " 0.65,\n",
       " 0.66,\n",
       " 0.67,\n",
       " 0.68,\n",
       " 0.6900000000000001,\n",
       " 0.7000000000000001,\n",
       " 0.71,\n",
       " 0.72,\n",
       " 0.73,\n",
       " 0.74,\n",
       " 0.75,\n",
       " 0.76,\n",
       " 0.77,\n",
       " 0.78,\n",
       " 0.79,\n",
       " 0.8,\n",
       " 0.81,\n",
       " 0.8200000000000001,\n",
       " 0.8300000000000001,\n",
       " 0.84,\n",
       " 0.85,\n",
       " 0.86,\n",
       " 0.87,\n",
       " 0.88,\n",
       " 0.89,\n",
       " 0.9,\n",
       " 0.91,\n",
       " 0.92,\n",
       " 0.93,\n",
       " 0.9400000000000001,\n",
       " 0.9500000000000001,\n",
       " 0.96,\n",
       " 0.97,\n",
       " 0.98,\n",
       " 0.99]"
      ]
     },
     "execution_count": 8,
     "metadata": {},
     "output_type": "execute_result"
    }
   ],
   "source": [
    "[0.01*i for i in range(-100,100,1)]\n",
    "#gap_vs_g(20,[0,0.01,0.02,0.03,0.04,0.05,0.06,0.07,0.08,0.09,0.1,0.2,0.3,0.4,-0.01,-0.02,-0.03,-0.04,-0.05,-0.06,-0.07,-0.08,-0.09,-0.1])\n",
    "#gap_vs_g(16,[0,0.01,0.02,0.03,0.04,0.05,0.06,0.07,0.08,0.09,0.1,0.2,0.3,0.4,-0.01,-0.02,-0.03,-0.04,-0.05,-0.06,-0.07,-0.08,-0.09,-0.1])\n",
    "\n",
    "#gap_vs_g(20,[0,0.01,0.02,0.03,0.04,0.05,0.06,0.07,0.08,0.09,0.1,-0.01,-0.02,-0.03,-0.04,-0.05,-0.06,-0.07,-0.08,-0.09,-0.1])"
   ]
  },
  {
   "cell_type": "code",
   "execution_count": 16,
   "metadata": {},
   "outputs": [
    {
     "data": {
      "image/png": "[encoded data removed]",
      "text/plain": [
       "<Figure size 432x288 with 1 Axes>"
      ]
     },
     "metadata": {
      "needs_background": "light"
     },
     "output_type": "display_data"
    }
   ],
   "source": [
    "gap_vs_g(18,[\n",
    " -0.2,\n",
    " -0.19,\n",
    " -0.18,\n",
    " -0.17,\n",
    " -0.15,\n",
    " -0.14,\n",
    " -0.13,\n",
    " -0.12,\n",
    " -0.11,\n",
    " -0.1,\n",
    " -0.09,\n",
    " -0.08,\n",
    " -0.07,\n",
    " -0.06,\n",
    " -0.05,\n",
    " -0.04,\n",
    " -0.03,\n",
    " -0.02,\n",
    " -0.01,\n",
    " 0.0,\n",
    " 0.01,\n",
    " 0.02,\n",
    " 0.03,\n",
    " 0.04,\n",
    " 0.05,\n",
    " 0.06,\n",
    " 0.07,\n",
    " 0.08,\n",
    " 0.09,\n",
    " 0.1,\n",
    " 0.11,\n",
    " 0.12,\n",
    " 0.13,\n",
    " 0.14,\n",
    " 0.15,\n",
    " 0.17,\n",
    " 0.18,\n",
    " 0.19,\n",
    " 0.2,\n",
    " ])"
   ]
  },
  {
   "cell_type": "code",
   "execution_count": null,
   "metadata": {},
   "outputs": [],
   "source": []
  },
  {
   "cell_type": "code",
   "execution_count": null,
   "metadata": {},
   "outputs": [],
   "source": []
  }
 ],
 "metadata": {
  "kernelspec": {
   "display_name": "Python 3",
   "language": "python",
   "name": "python3"
  },
  "language_info": {
   "codemirror_mode": {
    "name": "ipython",
    "version": 3
   },
   "file_extension": ".py",
   "mimetype": "text/x-python",
   "name": "python",
   "nbconvert_exporter": "python",
   "pygments_lexer": "ipython3",
   "version": "3.7.2"
  }
 },
 "nbformat": 4,
 "nbformat_minor": 2
}
